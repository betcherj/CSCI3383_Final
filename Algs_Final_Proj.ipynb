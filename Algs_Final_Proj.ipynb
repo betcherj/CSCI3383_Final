{
 "cells": [
  {
   "cell_type": "code",
   "execution_count": 37,
   "metadata": {
    "scrolled": true
   },
   "outputs": [
    {
     "data": {
      "image/png": "[encoded data removed]",
      "text/plain": [
       "<matplotlib.figure.Figure at 0x165ee370>"
      ]
     },
     "metadata": {
      "needs_background": "light"
     },
     "output_type": "display_data"
    }
   ],
   "source": [
    "import numpy as np\n",
    "import matplotlib.pyplot as plt\n",
    "import networkx as nx\n",
    "import pandas as pd\n",
    "from matplotlib.animation import FuncAnimation\n",
    "from IPython.display import HTML\n",
    "plt.rcParams[\"animation.html\"] = \"html5\"\n",
    "\n",
    "\n",
    "\n",
    "def DFS(G, start, size):\n",
    "    order = []\n",
    "    edges = G.edges()\n",
    "    toExplore = [start]\n",
    "    visited = [0]*size\n",
    "    while len(toExplore) > 0:\n",
    "        i = toExplore.pop()\n",
    "        visited[i] = 1\n",
    "        order.append(i)\n",
    "        for j in edges:\n",
    "            if i == j[0]:\n",
    "                if visited[j[1]] == 0:\n",
    "                    toExplore.append(j[1])\n",
    "    return order\n",
    "\n",
    "def BFS(G, start, size):\n",
    "    order = [] \n",
    "    edges = G.edges()\n",
    "    toExplore = [start]\n",
    "    visited = [0]*size\n",
    "    while len(toExplore)>0:\n",
    "        i = toExplore.pop()\n",
    "        visited[i] = 1\n",
    "        order.append(i)\n",
    "        for j in edges: \n",
    "            if i == j[0]:\n",
    "                if visited[j[1]] == 0:\n",
    "                    toExplore = [j[1]] + toExplore \n",
    "    return order\n",
    "\n",
    "size = 10\n",
    "start = 0\n",
    "From = [0,1,2,2,4,2,5,5,3]\n",
    "To = [1,2,3,4,5,7,6,8,9]\n",
    "#From = [0,2,1,1,3,3,5,5]\n",
    "#To = [1,4,2,3,5,6,7,8]\n",
    "labels = {0: '0',1:'1', 2:'2', 3:'3', 4:'4', 5:'5', 6:'6', 7:'7', 8:'8', 9:'9'}\n",
    "\n",
    "# generate graph\n",
    "df = pd.DataFrame({ 'from':From, 'to':To}, dtype=np.int8)\n",
    "G=nx.from_pandas_edgelist(df,'from','to')\n",
    "\n",
    "order = BFS(G, start, size)\n",
    "\n",
    "frames = []\n",
    "visited = [0]*size\n",
    "\n",
    "for i in range(len(order)):\n",
    "    temp = list(visited)\n",
    "    temp[order[i]] = size\n",
    "    frames.append(temp)\n",
    "    visited[order[i]] = 1\n",
    "\n",
    "frame = np.array(frames)\n",
    "pos = nx.spring_layout(G)\n",
    "nodes = nx.draw_networkx_nodes(G,pos)\n",
    "edges = nx.draw_networkx_edges(G,pos)\n",
    "nx.draw_networkx_labels(G, pos, labels)\n",
    "\n",
    "plt.axis('off')\n",
    "#update frames, changes color of nodes during animation \n",
    "def update(i):\n",
    "    nc = frame[i]\n",
    "    nodes.set_array(nc)\n",
    "    return nodes,\n",
    "# output animation\n",
    "fig = plt.gcf()\n",
    "ani = FuncAnimation(fig, update, interval=1000, frames=len(order), blit=True)\n",
    "ani.save('exampleBFS.mp4')"
   ]
  },
  {
   "cell_type": "code",
   "execution_count": null,
   "metadata": {},
   "outputs": [],
   "source": []
  },
  {
   "cell_type": "code",
   "execution_count": null,
   "metadata": {},
   "outputs": [],
   "source": []
  }
 ],
 "metadata": {
  "kernelspec": {
   "display_name": "Python 2",
   "language": "python",
   "name": "python2"
  },
  "language_info": {
   "codemirror_mode": {
    "name": "ipython",
    "version": 2
   },
   "file_extension": ".py",
   "mimetype": "text/x-python",
   "name": "python",
   "nbconvert_exporter": "python",
   "pygments_lexer": "ipython2",
   "version": "2.7.12"
  }
 },
 "nbformat": 4,
 "nbformat_minor": 2
}
